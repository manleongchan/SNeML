{
 "cells": [
  {
   "cell_type": "code",
   "execution_count": 1,
   "metadata": {},
   "outputs": [
    {
     "name": "stderr",
     "output_type": "stream",
     "text": [
      "Using TensorFlow backend.\n"
     ]
    }
   ],
   "source": [
    "from numpy.random import seed\n",
    "seed(1337)\n",
    "from tensorflow import set_random_seed\n",
    "set_random_seed(2674)\n",
    "import numpy as np\n",
    "import h5py\n",
    "import matplotlib\n",
    "matplotlib.use('Qt4Agg')\n",
    "import matplotlib.pyplot as plt\n",
    "from scipy import integrate, interpolate, signal, optimize, stats\n",
    "import cPickle as pickle\n",
    "import lal\n",
    "import keras\n",
    "from keras.models import Sequential, load_model\n",
    "from keras.layers import Dense, Conv2D, MaxPool2D, Dropout, BatchNormalization, Flatten\n",
    "from keras.optimizers import Nadam, SGD\n",
    "from keras.callbacks import ModelCheckpoint\n",
    "from sklearn.utils import shuffle\n",
    "from sklearn.model_selection import train_test_split\n",
    "import pyfftw\n",
    "import progressbar\n",
    "import time\n",
    "from sklearn import metrics\n",
    "import itertools\n",
    "np.set_printoptions(edgeitems=30, linewidth=160)\n",
    "import warnings\n",
    "warnings.filterwarnings('ignore')\n",
    "import pickle"
   ]
  },
  {
   "cell_type": "code",
   "execution_count": null,
   "metadata": {},
   "outputs": [],
   "source": [
    "# This code is for reading simulated SNe waveforms\n",
    "# This code will apply shift to the waveform \n",
    "# samples so that the waveform will always be in the certre +- user customized percentage."
   ]
  },
  {
   "cell_type": "code",
   "execution_count": 16,
   "metadata": {},
   "outputs": [],
   "source": []
  },
  {
   "cell_type": "code",
   "execution_count": 2,
   "metadata": {},
   "outputs": [],
   "source": [
    "# The name of the file that contains the simulated CCSN waveforms\n",
    "filename = './Data/GWdatabase.h5'\n",
    "\n",
    "# Read the simulated CCSN waveforms\n",
    "waveformfile = h5py.File(filename, 'r')\n",
    "\n",
    "\n",
    "# The first level keys of the h5 file\n",
    "reduced_data = waveformfile.keys()[0]\n",
    "waveformfilekey = waveformfile.keys()[1]\n",
    "yeofrho = waveformfile.keys()[2]\n",
    "\n",
    "waveformfamily = []\n",
    "waveformfamily_keys = []\n",
    "\n",
    "# Since there are 1824 different simulated CCSN waveform. \n",
    "# Each of which is saved in a different waveformfile key \n",
    "# So the loop below is to retreive all the keys with which the waveform strain data is accessed,\n",
    "# and save it to waveformfamily.\n",
    "# Each waveform family has 5 different keys, so the second part is to retrieve these 5 keys, and save them\n",
    "# to waveformfamily_keys.\n",
    "\n",
    "for i, key in enumerate(waveformfile[waveformfilekey].keys()):\n",
    "    waveformfamily.append(key)\n",
    "    if i == 0:\n",
    "        for j, _ in enumerate(waveformfile[waveformfilekey][waveformfamily[i]].keys()):\n",
    "            waveformfamily_keys.append(waveformfile[waveformfilekey][waveformfamily[i]].keys()[j])\n",
    "originalSNR = np.array(waveformfile[reduced_data][u'SNR(aLIGOfrom10kpc)'])"
   ]
  },
  {
   "cell_type": "code",
   "execution_count": 19,
   "metadata": {},
   "outputs": [
    {
     "data": {
      "text/plain": [
       "[u'M_IC(Msun)', u'beta_IC', u'rho_c(g|ccm)', u'strain*dist(cm)', u't-tb(s)']"
      ]
     },
     "execution_count": 19,
     "metadata": {},
     "output_type": "execute_result"
    }
   ],
   "source": []
  },
  {
   "cell_type": "code",
   "execution_count": 33,
   "metadata": {},
   "outputs": [
    {
     "data": {
      "text/plain": [
       "<matplotlib.collections.PathCollection at 0x7fd17402f790>"
      ]
     },
     "execution_count": 33,
     "metadata": {},
     "output_type": "execute_result"
    }
   ],
   "source": []
  },
  {
   "cell_type": "code",
   "execution_count": 34,
   "metadata": {},
   "outputs": [],
   "source": []
  },
  {
   "cell_type": "code",
   "execution_count": 20,
   "metadata": {},
   "outputs": [],
   "source": []
  },
  {
   "cell_type": "code",
   "execution_count": 3,
   "metadata": {},
   "outputs": [
    {
     "name": "stdout",
     "output_type": "stream",
     "text": [
      "(20794, 40, 13188, 12)\n"
     ]
    }
   ],
   "source": [
    "# This is to set some parameters for the training.\n",
    "# Since the waveforms are stored in the unit of strain * distan\n",
    "# the waveform amplitudes need to be divided by a distance.\n",
    "\n",
    "# Convection factor between par sec and meters\n",
    "PctMe = lal.PC_SI\n",
    "\n",
    "# The distance the waveform will be divided by, in centimeters\n",
    "Dist = 10.0 * 1e3 * PctMe * 1e2\n",
    "\n",
    "# Since the waveform samples come in different lengths, \n",
    "# so every waveform sample will be set to the longest length.\n",
    "# findmax/findmin is a variable that saves the longest/shortest length of the waveform samples.\n",
    "# k/kmin is the index referring to the longest/shortest waveform sample.\n",
    "findmax = 0\n",
    "k = 0 \n",
    "findmin = 1e10\n",
    "kmin = 0\n",
    "#length = np.zeros(len(waveformfamily))\n",
    "#waveformfamily = [waveformfamily[0]]\n",
    "\n",
    "\n",
    "# Since the waveform contains 1824 waveforms, which are different both in the morophology and the duration,\n",
    "# training a network with all these waveforms may make it hard to debug. So one may want to limit the variation\n",
    "# in the waveform samples by limiting the number of waveform samples put in the training. \n",
    "no_waves_considered = 50#1824\n",
    "for i in range(len(waveformfamily[0:no_waves_considered])):\n",
    "    waveformnumber = i\n",
    "\n",
    "    ts = np.array(waveformfile[waveformfilekey][waveformfamily[waveformnumber]][u't-tb(s)']) \n",
    "    #waves = np.array(waveforms[waveformkey][waveformfamily[waveformnumber]][u'strain*dist(cm)']) / Dist \n",
    "    if findmax < len(ts):\n",
    "        findmax = len(ts)\n",
    "        k = i\n",
    "    if findmin > len(ts):\n",
    "        findmin = len(ts)\n",
    "        kmin = i\n",
    "\n",
    "print(findmax, k, findmin, kmin)\n"
   ]
  },
  {
   "cell_type": "code",
   "execution_count": 4,
   "metadata": {},
   "outputs": [],
   "source": [
    "# The simulated waveforms are sampled with a sampling rate equal to 65535 Hz, \n",
    "# coupled with the longest waveform is ~1.66s, this makes the longest waveform contains 1e5 elements. \n",
    "# Since this code will make other waveforms the same length as the longest length, this requires huge amount of memory,\n",
    "# and makes training very slow and difficult. \n",
    "# Therefore, this codes uses scipy.signal.decimate to down sample the waveforms\n",
    "\n",
    "\n",
    "def padandextractwave(waveformfile, waveformfilekey, waveformfamily, strainkey, wavemaxlength, Dist, no_waves_considered, R):\n",
    "    # Number of simulated waveforms considered\n",
    "    noofwaves = len(waveformfamily[0:no_waves_considered])\n",
    "    \n",
    "    msg = 'Reading waveforms from file and downsampling them by a factor of %s............' %(R)\n",
    "    print(msg)\n",
    "    bar = progressbar.ProgressBar(max_value = no_waves_considered)\n",
    "    \n",
    "    # downsample factor, the downsampled waveform will have length = original length / R\n",
    "    \n",
    "    # Vector used to save the downsampled waveform\n",
    "    downsampled_waveforms = np.array([np.zeros(wavemaxlength / R) for i in range(noofwaves)])\n",
    "    \n",
    "    for i, whichsimulation in enumerate(waveformfamily[0:no_waves_considered]):\n",
    "        \n",
    "        # convert the unit of the waveform from strain*distance to strain\n",
    "        wave = np.array(waveformfile[waveformfilekey][whichsimulation][strainkey]) / Dist\n",
    "        wavelength = len(wave)\n",
    "        \n",
    "        # Pad the waveform with zero so that it has the same length as the longest waveform, \n",
    "        # or whatever length is set by wavemaxlength\n",
    "        temporary = np.pad(wave, (0, wavemaxlength - wavelength), 'constant', constant_values = 0)\n",
    "        \n",
    "        # down sample\n",
    "        downsampled_waveforms[i] = signal.decimate(temporary, R, ftype='iir')\n",
    "        bar.update(i + 1)\n",
    "        \n",
    "    return downsampled_waveforms\n",
    "    "
   ]
  },
  {
   "cell_type": "code",
   "execution_count": null,
   "metadata": {},
   "outputs": [],
   "source": []
  },
  {
   "cell_type": "code",
   "execution_count": 5,
   "metadata": {},
   "outputs": [
    {
     "name": "stderr",
     "output_type": "stream",
     "text": [
      "  4% (2 of 50) |#                        | Elapsed Time: 0:00:00 ETA:  00:00:00"
     ]
    },
    {
     "name": "stdout",
     "output_type": "stream",
     "text": [
      "Reading waveforms from file and downsampling them by a factor of 8............\n"
     ]
    },
    {
     "name": "stderr",
     "output_type": "stream",
     "text": [
      "100% (50 of 50) |########################| Elapsed Time: 0:00:03 ETA:  00:00:00"
     ]
    }
   ],
   "source": [
    "\n",
    "# Since the original longest waveform length may not be dividable by the down sample vector, \n",
    "# this is to ensure that the length will be dividable. \n",
    "R = 8\n",
    "findmax = 108512\n",
    "\n",
    "findmax = np.ceil(findmax/8.0) * 8\n",
    "\n",
    "# the assumed observation/simulation duration for every waveform \n",
    "Tobs = findmax / 65535.0\n",
    "#start = time.time()\n",
    "SNewaves = padandextractwave(waveformfile, waveformfilekey, waveformfamily, u'strain*dist(cm)', int(findmax), Dist, no_waves_considered, R)\n",
    "#elapsed = time.time() - start\n",
    "#print(elapsed)\n",
    "# Using the downsampled waveform to compute the new sampling rate\n",
    "New_sr = (len(SNewaves[0]) - 1) / Tobs\n",
    "# the new spacing in time\n",
    "New_dt = 1.0 / New_sr\n",
    "\n"
   ]
  },
  {
   "cell_type": "code",
   "execution_count": 6,
   "metadata": {},
   "outputs": [],
   "source": [
    "def ASDtxt(x):\n",
    "    \"\"\"This function reads the following noise curves given a detector name.\"\"\"\n",
    "    return {\n",
    "        'LET':'./ASD/ET_D.txt',\n",
    "        'LCE':'./ASD/CE.txt',\n",
    "        'H1': './ASD/ligoII_NS.txt',\n",
    "        'L1': './ASD/ligoII_NS.txt',\n",
    "        'V1': './ASD/virgoII.txt',\n",
    "        'I2': './ASD/ligoII_NS.txt',\n",
    "        'KAGRA': './ASD/ligoII_NS.txt',\n",
    "        'ET_1': './ASD/ET_D.txt',\n",
    "        'ET_2': './ASD/ET_D.txt',\n",
    "        'ET_3': './ASD/ET_D.txt',\n",
    "        'A2': './ASD/ligoII_NS.txt',\n",
    "        'A2.5': './ASD/ligoII_NS.txt',\n",
    "    }[x]\n"
   ]
  },
  {
   "cell_type": "code",
   "execution_count": 7,
   "metadata": {},
   "outputs": [],
   "source": [
    "def readnos(detector, f_points):\n",
    "    \"\"\"This function interpolates the noise given the frequency samples.\"\"\"\n",
    "    nos_file = ASDtxt(detector)\n",
    "    f_str = []\n",
    "    ASD_str = []\n",
    "    file = open(nos_file, 'r')\n",
    "    readFile = file.readlines()\n",
    "    file.close()\n",
    "    f = []\n",
    "    ASD = []\n",
    "    \n",
    "    for line in readFile:\n",
    "        p = line.split()\n",
    "        f_str.append(float(p[0]))\n",
    "        ASD_str.append(float(p[1]))\n",
    "    f = np.log10(np.array(f_str))\n",
    "    ASD = np.log10(np.array(ASD_str))\n",
    "    nosinterpolate = interpolate.splrep(f, ASD, w=1.0*np.ones(len(ASD)), s=0)\n",
    "    \n",
    "    nos = interpolate.splev(np.log10(f_points), nosinterpolate, der = 0, ext = 3)\n",
    "    nos = 10**nos\n",
    "    \n",
    "    return nos"
   ]
  },
  {
   "cell_type": "code",
   "execution_count": 8,
   "metadata": {},
   "outputs": [],
   "source": [
    "def noisegenerator(Tobs, det, SR, df, dt):\n",
    "    \"\"\"This function generates noise based on amplitude spectral density\"\"\"\n",
    "    \n",
    "    # The number of time stamps\n",
    "    Ns = Tobs * SR \n",
    "    \n",
    "    # The number of the frequency samples\n",
    "    Nf = int(Ns // 2 + 1)\n",
    "    \n",
    "    # The frequency sample\n",
    "    fs = np.arange(Nf) * df\n",
    "    \n",
    "    # read ASD\n",
    "    ASD = readnos(det, fs)\n",
    "    #plt.loglog(fs, ASD)\n",
    "    #plt.show()\n",
    "    #dd\n",
    "    \n",
    "    PSD = ASD ** 2\n",
    "    # scale the ASD by the observation time, and this will be the highest amplitude of the generated noise\n",
    "    Amp = np.sqrt(0.25 * Tobs * PSD)\n",
    "    \n",
    "    \n",
    "    idx = np.argwhere(PSD==0.0)\n",
    "    Amp[idx] = 0.0\n",
    "    \n",
    "    real_nos = Amp * np.random.normal(0.0, 1.0, Nf)\n",
    "    img_nos = Amp * np.random.normal(0.0, 1.0, Nf)\n",
    "    \n",
    "    # This is to ensure there is no strange behaviour from noise at low frequency.\n",
    "    # This is because the interpolation function will interpolate strange values at frequencies betweem 1 - 10Hz.\n",
    "    #low_cutoff = 20\n",
    "    #high_cutoff = 2048\n",
    "    \n",
    "    #idx_1 =  int(low_cutoff/df)\n",
    "    #real_nos[0:idx_1] = 0\n",
    "    #img_nos[0:idx_1] = 0\n",
    "    #idx_2 = int(high_cutoff/df)\n",
    "    #real_nos[idx_2:] = 0\n",
    "    #img_nos[idx_2:] = 0\n",
    "    \n",
    "    nos = real_nos + 1j * img_nos\n",
    "\n",
    "    \n",
    "    # Fourier transiform converts the generated noise to the tme domain\n",
    "    fftinput = pyfftw.empty_aligned(len(nos), dtype='complex128')\n",
    "    \n",
    "    fft_object = pyfftw.builders.irfft(fftinput)\n",
    "\n",
    "    nos_realization = Ns* fft_object(nos) * df\n",
    "\n",
    "    return ASD, nos_realization, fs\n",
    "    "
   ]
  },
  {
   "cell_type": "code",
   "execution_count": null,
   "metadata": {},
   "outputs": [],
   "source": []
  },
  {
   "cell_type": "code",
   "execution_count": 9,
   "metadata": {},
   "outputs": [],
   "source": [
    "def SNR_calculator(waves_in_time_domain, dt, Det):\n",
    "    \n",
    "    length = len(waves_in_time_domain)\n",
    "    \n",
    "    df = 1.0 / (length * dt)\n",
    "    \n",
    "    Nf = int((length // 2 + 1))\n",
    "    \n",
    "    fftinput_for_snr = pyfftw.empty_aligned(length, dtype='complex128')     \n",
    "    fft_object_for_snr = pyfftw.builders.rfft(fftinput_for_snr)      \n",
    "     \n",
    "    # frequency samples\n",
    "    fs = np.arange(Nf) * df\n",
    "    \n",
    "    # Amplitude spectral density\n",
    "    ASD = readnos(Det, fs)\n",
    "        \n",
    "    temporary_wave_in_f = fft_object_for_snr(waves_in_time_domain) * dt\n",
    "    \n",
    "    snr = np.sqrt( 4.0 * sum( abs(temporary_wave_in_f) ** 2 / ASD ** 2 ) * df )\n",
    "    \n",
    "    return snr\n",
    "    "
   ]
  },
  {
   "cell_type": "code",
   "execution_count": 10,
   "metadata": {},
   "outputs": [],
   "source": [
    "def rescale_to_set_SNR(preset_SNR, SNewaves, dt, Det):\n",
    "    \n",
    "    df = 1.0 / (len(SNewaves[0]) * dt)\n",
    "    fftinput_for_snr = pyfftw.empty_aligned(len(SNewaves[0]), dtype='complex128')     \n",
    "    fft_object_for_snr = pyfftw.builders.rfft(fftinput_for_snr)      \n",
    "    \n",
    "    Nf = int((len(SNewaves[0]) // 2 + 1))\n",
    "    \n",
    "    # frequency samples\n",
    "    fs = np.arange(Nf) * df\n",
    "    \n",
    "    # Amplitude spectral density\n",
    "    ASD = readnos(Det, fs)\n",
    "    msg = 'Rescaling the amplitude of the waveforms so that their optimal SNR is %s.........' %(preset_SNR)\n",
    "    print(msg)\n",
    "    print(\" \")\n",
    "    bar = progressbar.ProgressBar(max_value = len(SNewaves))\n",
    "    \n",
    "    for i, wave in enumerate(SNewaves):\n",
    "        temporary_wave_in_f = fft_object_for_snr(wave) * dt\n",
    "        temporary_snr = np.sqrt( 4.0 * sum( abs(temporary_wave_in_f) ** 2 / ASD ** 2 ) * df )\n",
    "        SNR_factor = preset_SNR / temporary_snr\n",
    "    \n",
    "        SNewaves[i] = SNR_factor * wave\n",
    "        #print(temporary_snr)\n",
    "        #print(  np.sqrt(4.0 * sum(abs(fft_object_for_snr(SNewaves[i]) * dt) **2 / ASD ** 2) * df))\n",
    "        bar.update(i)\n",
    "    \n",
    "    return SNewaves\n",
    "    "
   ]
  },
  {
   "cell_type": "code",
   "execution_count": 11,
   "metadata": {},
   "outputs": [],
   "source": [
    "def data_generator(seed, ts, dt, Sr, percentage, Det, SNewaves, N_rz, multiplication):\n",
    "    \"\"\"This function generates the data for training/validation/testing.\"\"\"\n",
    "    \n",
    "    np.random.seed(seed)\n",
    "    \n",
    "    # The number of sample will be equal to the number of N_rz(noise realizations)\n",
    "    data = np.array([np.zeros_like(ts) for i in range(N_rz)])\n",
    "    \n",
    "    # Signal to noise ratio\n",
    "    #SNR = np.zeros(N_rz)\n",
    "    \n",
    "    # Number of time stamps\n",
    "    Ns = len(ts)\n",
    "    \n",
    "    # Number of frequency samples\n",
    "    Nf = int(Ns //2 + 1)\n",
    "    \n",
    "    # Observation time\n",
    "    Tobs = ts[-1] + dt\n",
    "    \n",
    "    # spacing in the frequency domain\n",
    "    df = 1.0/Tobs\n",
    "    # frequency samples\n",
    "    fs = np.arange(Nf) * df\n",
    "    \n",
    "    # Amplitude spectral density\n",
    "    ASD = readnos(Det, fs)\n",
    "    \n",
    "    \n",
    "    toolbar_width = N_rz\n",
    "\n",
    "    \n",
    "    \n",
    "    msg = 'Generating noise realizations.......'\n",
    "    print(msg)\n",
    "    print(\" \")\n",
    "    # setup toolbar\n",
    "    bar = progressbar.ProgressBar(max_value=toolbar_width)\n",
    "    \n",
    "\n",
    "    \n",
    "    # Generate noise\n",
    "    for i in range(N_rz):\n",
    "        #if (i+1) % 1000 == 0 & i != N_rz - 1:\n",
    "        #   msg = 'The %s th to %s th noise realizations are now being generated.' %(i+1, i+1000)\n",
    "        #    print(msg)\n",
    "        _, data[i], _ = noisegenerator(Tobs, Det, Sr, df, dt)\n",
    "        bar.update(i+1)\n",
    "\n",
    "\n",
    "\n",
    "    msg = 'Adding noise to signals and converting them back to the time domain after whitening them in the frequency domain.....'\n",
    "    print(msg)\n",
    "    print(\" \")\n",
    "    bar_2 = progressbar.ProgressBar(max_value=toolbar_width)\n",
    "    \n",
    "    \n",
    "    if ts[-1] == signal_duration:   \n",
    "\n",
    "        for i in range(multiplication):\n",
    "            for j in range(len(SNewaves)):\n",
    "\n",
    "                count = i * len(SNewaves) + j\n",
    "                #if (count + 1) % 1000 == 0 and count < 4999:\n",
    "                #    msg = 'The %s th to %s th samples of the data set are now being generated.' %(count + 1,count + 1000)\n",
    "                #    print(msg)\n",
    "                data[count] += SNewaves[j]\n",
    "\n",
    "\n",
    "                fftinput_1 = pyfftw.empty_aligned(len(data[count]), dtype='complex128')\n",
    "                fft_object_1 = pyfftw.builders.rfft(fftinput_1)\n",
    "                temporary = fft_object_1(data[count]) * 1.0/Sr\n",
    "                temporary = temporary / ASD \n",
    "\n",
    "\n",
    "                #SNR[count] = np.sqrt(4.0 * sum(abs(temporary[int(100/df): int(500/df)]) ** 2 * df))\n",
    "                #SNR_factor = SNR_set / SNR[count]\n",
    "                #temporary = temporary * SNR_factor\n",
    "                #if SNR_factor > 1:\n",
    "                #    print(SNR_factor,count) \n",
    "                #print(SNR_factor, np.sqrt(4.0 * sum(abs(temporary) ** 2 * df)))\n",
    "                fftinput_2 = pyfftw.empty_aligned(len(temporary), dtype='complex128')\n",
    "                fft_object_2 = pyfftw.builders.irfft(fftinput_2)\n",
    "                data[count] = Ns * fft_object_2(temporary) * df * np.sqrt(2.0/ Sr)\n",
    "                bar_2.update( count + 1)\n",
    "    elif ts[-1] > signal_duration:\n",
    "        for i in range(multiplication):\n",
    "            for j in range(len(SNewaves)):\n",
    "\n",
    "                count = i * len(SNewaves) + j\n",
    "                #if (count + 1) % 1000 == 0 and count < 4999:\n",
    "                #    msg = 'The %s th to %s th samples of the data set are now being generated.' %(count + 1,count + 1000)\n",
    "                #    print(msg)\n",
    "                # This is to draw a random and determine     \n",
    "                random_shift_percentage = np.random.uniform(-percentage, percentage)\n",
    "                original_starting_point = sample_length / 2 - signal_length / 2\n",
    "                shifted_starting_point = int(original_starting_point * (1 + random_shift_percentage))\n",
    "                \n",
    "                data[count][shifted_starting_point: shifted_starting_point + signal_length] = data[count][shifted_starting_point: shifted_starting_point + signal_length] + SNewaves[j]\n",
    "        \n",
    "                fftinput_1 = pyfftw.empty_aligned(len(data[count]), dtype='complex128')\n",
    "                fft_object_1 = pyfftw.builders.rfft(fftinput_1)\n",
    "                temporary = fft_object_1(data[count]) * 1.0 / Sr\n",
    "                temporary = temporary / ASD \n",
    "\n",
    "\n",
    "                #SNR[count] = np.sqrt(4.0 * sum(abs(temporary[int(100/df): int(500/df)]) ** 2 * df))\n",
    "                #SNR_factor = SNR_set / SNR[count]\n",
    "                #temporary[int(100/df): int(500/df)] = temporary[int(100/df): int(500/df)] * SNR_factor\n",
    "                \n",
    "                #if SNR_factor > 1:\n",
    "                #    print(SNR_factor,count) \n",
    "                #print(SNR_factor, np.sqrt(4.0 * sum(abs(temporary) ** 2 * df)))\n",
    "                \n",
    "                fftinput_2 = pyfftw.empty_aligned(len(temporary), dtype='complex128')\n",
    "                fft_object_2 = pyfftw.builders.irfft(fftinput_2)\n",
    "                data[count] = Ns * fft_object_2(temporary) * df * np.sqrt(2.0/ Sr)\n",
    "                bar_2.update( count + 1 )\n",
    "    else:\n",
    "        raise Exception('The sample length should be longer than or equal to the signal length') \n",
    "\n",
    "            \n",
    "    for i in range(multiplication * len(SNewaves), N_rz):\n",
    "        fftinput_1 = pyfftw.empty_aligned(len(data[i]), dtype='complex128')\n",
    "        fft_object_1 = pyfftw.builders.rfft(fftinput_1)\n",
    "        temporary = fft_object_1(data[i]) *  1.0 / Sr \n",
    "        temporary = temporary / ASD \n",
    "        \n",
    "        fftinput_2 = pyfftw.empty_aligned(len(temporary), dtype='complex128')\n",
    "        fft_object_2 = pyfftw.builders.irfft(fftinput_2)\n",
    "        data[i] = Ns * fft_object_2(temporary) * df * np.sqrt(2.0/ Sr)\n",
    "        bar_2.update(i + 1)\n",
    "            \n",
    "            \n",
    "    return data #SNR\n",
    "        \n"
   ]
  },
  {
   "cell_type": "code",
   "execution_count": 12,
   "metadata": {},
   "outputs": [],
   "source": [
    "def whiten_data(not_whitened_data_in_time_domain, ASD, dt, SR):\n",
    "    \n",
    "    num = len(not_whitened_data_in_time_domain)\n",
    "    signal_len = len(not_whitened_data_in_time_domain[0])\n",
    "    \n",
    "    whitened_data = np.array([np.zeros(signal_len ) for i in range(num)])\n",
    "    fftinput_in_td = pyfftw.empty_aligned(signal_len, dtype='complex128')\n",
    "    fft_object_to_f = pyfftw.builders.rfft(fftinput_in_td)\n",
    "    \n",
    "    \n",
    "    fftinput_in_fd = pyfftw.empty_aligned(signal_len//2 + 1, dtype='complex128')\n",
    "    fft_object_to_t = pyfftw.builders.irfft(fftinput_in_fd)\n",
    "    \n",
    "    for i, nwd in enumerate(not_whitened_data_in_time_domain):\n",
    "        temp = fft_object_to_f(nwd) * dt / ASD\n",
    "        whitened_data[i] = fft_object_to_t(temp) * np.sqrt(2.0/ SR) / dt\n",
    "        \n",
    "    \n",
    "    return whitened_data \n",
    "\n"
   ]
  },
  {
   "cell_type": "code",
   "execution_count": null,
   "metadata": {},
   "outputs": [],
   "source": []
  },
  {
   "cell_type": "code",
   "execution_count": 13,
   "metadata": {},
   "outputs": [],
   "source": [
    "# the time stamps \n",
    "signal_length = len(SNewaves[0])\n",
    "signal_duration = (signal_length - 1) * New_dt\n",
    "\n",
    "# applying pad to make the sample longer. This is for the purpose of shifting the signal, so that the signal will appear to be in the centre +- user customised percentage\n",
    "# If no padding is to be applied\n",
    "sample_length = signal_length * 1.0\n",
    "\n",
    "# time stamps after pad\n",
    "ts = np.arange(sample_length) * New_dt\n",
    "sample_duration = ts[-1]"
   ]
  },
  {
   "cell_type": "code",
   "execution_count": 14,
   "metadata": {},
   "outputs": [
    {
     "name": "stderr",
     "output_type": "stream",
     "text": [
      " 84% (42 of 50) |####################    | Elapsed Time: 0:00:00 ETA:   0:00:00"
     ]
    },
    {
     "name": "stdout",
     "output_type": "stream",
     "text": [
      "Rescaling the amplitude of the waveforms so that their optimal SNR is 10.0.........\n",
      " \n"
     ]
    }
   ],
   "source": [
    "SNR_set = 10.0\n",
    "SNewaves = rescale_to_set_SNR(SNR_set, SNewaves, New_dt, 'H1')\n",
    "plt.plot(SNewaves[0])\n",
    "plt.show()"
   ]
  },
  {
   "cell_type": "code",
   "execution_count": null,
   "metadata": {},
   "outputs": [],
   "source": []
  },
  {
   "cell_type": "code",
   "execution_count": 15,
   "metadata": {},
   "outputs": [
    {
     "name": "stderr",
     "output_type": "stream",
     "text": [
      "  2% (26 of 1000) |                      | Elapsed Time: 0:00:00 ETA:   0:00:06"
     ]
    },
    {
     "name": "stdout",
     "output_type": "stream",
     "text": [
      "Generating noise realizations.......\n",
      " \n"
     ]
    },
    {
     "name": "stderr",
     "output_type": "stream",
     "text": [
      " 11% (114 of 1000) |##                   | Elapsed Time: 0:00:00 ETA:   0:00:01"
     ]
    },
    {
     "name": "stdout",
     "output_type": "stream",
     "text": [
      "Adding noise to signals and converting them back to the time domain after whitening them in the frequency domain.....\n",
      " \n"
     ]
    },
    {
     "name": "stderr",
     "output_type": "stream",
     "text": [
      " 98% (988 of 1000) |#################### | Elapsed Time: 0:00:01 ETA:   0:00:00"
     ]
    }
   ],
   "source": [
    "if 'data' in globals():\n",
    "    del data\n",
    "    del label\n",
    "if 'train_sample' in globals():\n",
    "    del train_sample, train_label, val_sample, val_label, test_sample, test_label\n",
    "    \n",
    "multiplication = 2\n",
    "presence = len(SNewaves) * multiplication\n",
    "shift_percentage = 0.0\n",
    "seed = 10\n",
    "Det = 'H1'\n",
    "\n",
    "# Number of noise realization. This will be the final number of data samples for training + validation + testing\n",
    "N_rz = 1000\n",
    "data = data_generator(seed, ts, New_dt, New_sr, shift_percentage, Det, SNewaves, N_rz, multiplication)\n",
    "label = np.concatenate((np.ones(presence), np.zeros(N_rz - presence)))"
   ]
  },
  {
   "cell_type": "code",
   "execution_count": null,
   "metadata": {},
   "outputs": [],
   "source": []
  },
  {
   "cell_type": "code",
   "execution_count": 16,
   "metadata": {},
   "outputs": [],
   "source": [
    "asd, _, _ = noisegenerator(ts[-1] + New_dt , 'H1', New_sr, 1.0/signal_duration, New_dt)\n",
    "whitened_data = whiten_data(SNewaves, asd, New_dt, New_sr)\n"
   ]
  },
  {
   "cell_type": "code",
   "execution_count": 16,
   "metadata": {},
   "outputs": [
    {
     "name": "stdout",
     "output_type": "stream",
     "text": [
      "0.0\n"
     ]
    }
   ],
   "source": [
    "i = np.random.randint(20000)\n",
    "plt.plot(data[i])\n",
    "#plt.plot(whitened_data[0])\n",
    "print(label[i])\n",
    "plt.show()"
   ]
  },
  {
   "cell_type": "code",
   "execution_count": 159,
   "metadata": {},
   "outputs": [],
   "source": [
    "pathandname='showdata.pkl'\n",
    "fp = open(pathandname,\"w\")\n",
    "pickle.dump([ts, show_data], fp)\n",
    "fp.close()"
   ]
  },
  {
   "cell_type": "code",
   "execution_count": 18,
   "metadata": {},
   "outputs": [],
   "source": [
    "\n",
    "#plt.plot(ts, SNewaves[0])\n",
    "\n",
    "plt.plot(ts, data[1])\n",
    "#plt.plot(ts, val_sample[1773])\n",
    "plt.plot(ts, whitened_data[1], color='r')\n",
    "\n",
    "plt.show()\n",
    "#plt.plot(data[1824])\n",
    "#plt.show()"
   ]
  },
  {
   "cell_type": "code",
   "execution_count": 19,
   "metadata": {},
   "outputs": [],
   "source": [
    "fig=plt.figure(figsize=(10, 8), dpi= 100, facecolor='w', edgecolor='k')\n",
    "gd = stats.norm(0,1)\n",
    "x = np.linspace(-10, 10, 1000)\n",
    "y = gd.pdf(x)\n",
    "plt.plot(x,y)\n",
    "plt.hist(data[1], bins = 40, density=True)\n",
    "plt.show()"
   ]
  },
  {
   "cell_type": "code",
   "execution_count": 16,
   "metadata": {},
   "outputs": [],
   "source": [
    "def shuffle_data(sample, label,  shuffle_times, seed):\n",
    "    np.random.seed(seed)\n",
    "    for i in range(shuffle_times):\n",
    "        state = np.random.randint(0,100)\n",
    "        sample, label = shuffle(sample, label, random_state=state)\n",
    "        \n",
    "    return sample, label\n"
   ]
  },
  {
   "cell_type": "code",
   "execution_count": 17,
   "metadata": {},
   "outputs": [],
   "source": [
    "def split_data(sample, label, savefortest, presence, shuffled, tv_split):\n",
    "    \n",
    "    data_size = len(sample) \n",
    "    \n",
    "    \n",
    "    if shuffled == True:\n",
    "        split_point = int((data_size - 2 * savefortest) * tv_split)\n",
    "        train_sample = sample[0 : split_point] \n",
    "        train_label = label[0 : split_point]\n",
    "        \n",
    "        val_sample = sample[split_point : data_size - 2 * savefortest]\n",
    "        val_label = label[split_point : data_size - 2 * savefortest]\n",
    "    \n",
    "        test_sample = sample[data_size - 2 * savefortest : ]\n",
    "        test_label = label[data_size - 2 * savefortest : ]\n",
    "\n",
    "    else:\n",
    "\n",
    "        nos_portion = (data_size - presence - savefortest)/2\n",
    "        nos_start = presence\n",
    "\n",
    "        \n",
    "        train_start_index_signal = 0\n",
    "        train_end_index_signal = (presence - savefortest) / 2\n",
    "\n",
    "        train_start_index_noise = nos_start\n",
    "        train_end_index_noise = nos_start + nos_portion\n",
    "\n",
    "\n",
    "        val_start_index_signal = train_end_index_signal\n",
    "        val_end_index_signal = presence - savefortest\n",
    "\n",
    "        val_start_index_noise = train_end_index_noise\n",
    "        val_end_index_noise = train_end_index_noise + nos_portion\n",
    "\n",
    "\n",
    "        test_start_index_signal = val_end_index_signal\n",
    "        test_end_index_signal =  val_end_index_signal + savefortest\n",
    "\n",
    "        test_start_index_noise = val_end_index_noise\n",
    "        test_end_index_noise =  val_end_index_noise + savefortest\n",
    "\n",
    "    \n",
    "        train_sample = np.concatenate((data[train_start_index_signal:train_end_index_signal], \n",
    "                                       data[train_start_index_noise:train_end_index_noise]))\n",
    "\n",
    "        train_label = np.concatenate((np.ones(train_end_index_signal - train_start_index_signal), \n",
    "                                      np.zeros(train_end_index_noise - train_start_index_noise)))\n",
    "\n",
    "        val_sample = np.concatenate((data[val_start_index_signal:val_end_index_signal], \n",
    "                                    data[val_start_index_noise:val_end_index_noise]))\n",
    "\n",
    "        val_label = np.concatenate((np.ones(val_end_index_signal - val_start_index_signal), \n",
    "                                    np.zeros(val_end_index_noise - val_start_index_noise)))\n",
    "\n",
    "        test_sample = np.concatenate((data[test_start_index_signal : test_end_index_signal], \n",
    "                                     data[test_start_index_noise : test_end_index_noise]))\n",
    "\n",
    "        test_label = np.concatenate((np.ones(test_end_index_signal - test_start_index_signal), \n",
    "                                    np.zeros(test_end_index_noise - test_start_index_noise)))\n",
    "        \n",
    "        #print(train_start_index_signal,train_end_index_signal, train_start_index_noise , train_end_index_noise, \n",
    "        #      val_start_index_signal, val_end_index_signal, val_start_index_noise, val_end_index_noise,\n",
    "        #      test_start_index_signal, test_end_index_signal, test_start_index_noise, test_end_index_noise)\n",
    "    return train_sample, train_label, val_sample, val_label, test_sample, test_label"
   ]
  },
  {
   "cell_type": "code",
   "execution_count": 79,
   "metadata": {},
   "outputs": [],
   "source": [
    "plt.plot(data[3647])\n",
    "plt.show()"
   ]
  },
  {
   "cell_type": "code",
   "execution_count": 23,
   "metadata": {},
   "outputs": [
    {
     "data": {
      "text/plain": [
       "2960"
      ]
     },
     "execution_count": 23,
     "metadata": {},
     "output_type": "execute_result"
    }
   ],
   "source": [
    "len(val_sample)"
   ]
  },
  {
   "cell_type": "code",
   "execution_count": 24,
   "metadata": {},
   "outputs": [
    {
     "name": "stdout",
     "output_type": "stream",
     "text": [
      "11840\n",
      "2960\n",
      "200\n",
      "1.0\n"
     ]
    }
   ],
   "source": [
    "print(len(train_sample))\n",
    "print(len(val_sample))\n",
    "print(len(test_sample))\n",
    "i = 10\n",
    "plt.plot(test_sample[i])\n",
    "plt.show()\n",
    "print(test_label[i])\n"
   ]
  },
  {
   "cell_type": "code",
   "execution_count": 18,
   "metadata": {},
   "outputs": [],
   "source": [
    "presence = len(SNewaves) * multiplication\n",
    "label = np.concatenate((np.ones(presence), np.zeros(N_rz - presence)))\n",
    "\n",
    "shuffle_times = 1\n",
    "seed_s = 387\n",
    "sample, label = shuffle_data(data, label,  shuffle_times, seed_s)\n",
    "savefortest = 100\n",
    "shuffled = True\n",
    "tv_split = 0.8\n",
    "train_sample, train_label, val_sample, val_label, test_sample, test_label = split_data(sample, label, savefortest, presence, shuffled, tv_split)\n",
    "del sample"
   ]
  },
  {
   "cell_type": "code",
   "execution_count": 161,
   "metadata": {},
   "outputs": [
    {
     "name": "stdout",
     "output_type": "stream",
     "text": [
      "0.0\n"
     ]
    }
   ],
   "source": [
    "i = 2\n",
    "plt.plot(val_sample[i])\n",
    "plt.show()\n",
    "print(val_label[i])"
   ]
  },
  {
   "cell_type": "code",
   "execution_count": 139,
   "metadata": {},
   "outputs": [],
   "source": [
    "def checkvalidity(data, label):\n",
    "    co = 0\n",
    "    for la, sa in zip(label, data):\n",
    "        if la == 0 and np.max(abs(sa)) >= 5:\n",
    "            print(co)\n",
    "        elif la == 1 and np.max(abs(sa)) < 5:\n",
    "            print(co)\n",
    "        co += 1\n"
   ]
  },
  {
   "cell_type": "code",
   "execution_count": 159,
   "metadata": {},
   "outputs": [],
   "source": [
    "checkvalidity(test_sample, test_label)"
   ]
  },
  {
   "cell_type": "code",
   "execution_count": null,
   "metadata": {},
   "outputs": [],
   "source": []
  },
  {
   "cell_type": "code",
   "execution_count": 19,
   "metadata": {},
   "outputs": [],
   "source": [
    "\"\"\"Below is the CNN part of this code\"\"\" \n",
    "\n",
    "batch_size = 30      # number of time series per batch\n",
    "num_classes = 2      # signal or background\n",
    "epochs = 20          # number of full passes of the dataset\n",
    "outdir = './results' # directory to store results in\n",
    "\n"
   ]
  },
  {
   "cell_type": "code",
   "execution_count": 20,
   "metadata": {},
   "outputs": [],
   "source": [
    "number_of_sample_for_training = len(train_sample)\n",
    "number_of_sample_for_testing = len(test_sample)\n",
    "number_of_sample_for_validation = len(val_sample)\n",
    "training_sample_length = len(train_sample[0])\n",
    "\n",
    "train_sample = train_sample.reshape(number_of_sample_for_training, 1, training_sample_length)\n",
    "test_sample = test_sample.reshape(number_of_sample_for_testing, 1, training_sample_length)\n",
    "val_sample = val_sample.reshape(number_of_sample_for_validation, 1, training_sample_length)"
   ]
  },
  {
   "cell_type": "code",
   "execution_count": null,
   "metadata": {},
   "outputs": [],
   "source": []
  },
  {
   "cell_type": "code",
   "execution_count": 21,
   "metadata": {},
   "outputs": [],
   "source": [
    "keras.backend.set_image_data_format('channels_first')\n",
    "training_sample_length = len(train_sample[0][0])\n",
    "\n",
    "train_sample = train_sample.reshape(-1, 1, 1, training_sample_length)\n",
    "val_sample = val_sample.reshape(-1, 1, 1, training_sample_length)\n",
    "test_sample = test_sample.reshape(-1, 1, 1, training_sample_length)\n",
    "\n",
    "input_shape = train_sample.shape[1:]"
   ]
  },
  {
   "cell_type": "code",
   "execution_count": 24,
   "metadata": {},
   "outputs": [],
   "source": [
    "plt.plot(train_sample[0][0][0])\n",
    "plt.show()"
   ]
  },
  {
   "cell_type": "code",
   "execution_count": 22,
   "metadata": {},
   "outputs": [],
   "source": [
    "train_label = keras.utils.to_categorical(train_label , num_classes)\n",
    "val_label = keras.utils.to_categorical(val_label, num_classes)\n",
    "test_label = keras.utils.to_categorical(test_label, num_classes)"
   ]
  },
  {
   "cell_type": "code",
   "execution_count": 23,
   "metadata": {},
   "outputs": [
    {
     "ename": "NameError",
     "evalue": "name 'model' is not defined",
     "output_type": "error",
     "traceback": [
      "\u001b[0;31m---------------------------------------------------------------------------\u001b[0m",
      "\u001b[0;31mNameError\u001b[0m                                 Traceback (most recent call last)",
      "\u001b[0;32m<ipython-input-23-a7ab210f85a1>\u001b[0m in \u001b[0;36m<module>\u001b[0;34m()\u001b[0m\n\u001b[0;32m----> 1\u001b[0;31m \u001b[0;32mdel\u001b[0m \u001b[0mmodel\u001b[0m\u001b[0;34m\u001b[0m\u001b[0m\n\u001b[0m",
      "\u001b[0;31mNameError\u001b[0m: name 'model' is not defined"
     ]
    }
   ],
   "source": [
    "del model\n"
   ]
  },
  {
   "cell_type": "code",
   "execution_count": 24,
   "metadata": {},
   "outputs": [
    {
     "name": "stdout",
     "output_type": "stream",
     "text": [
      "_________________________________________________________________\n",
      "Layer (type)                 Output Shape              Param #   \n",
      "=================================================================\n",
      "conv2d_1 (Conv2D)            (None, 8, 1, 13501)       520       \n",
      "_________________________________________________________________\n",
      "max_pooling2d_1 (MaxPooling2 (None, 8, 1, 1687)        0         \n",
      "_________________________________________________________________\n",
      "conv2d_2 (Conv2D)            (None, 16, 1, 1672)       2064      \n",
      "_________________________________________________________________\n",
      "max_pooling2d_2 (MaxPooling2 (None, 16, 1, 278)        0         \n",
      "_________________________________________________________________\n",
      "flatten_1 (Flatten)          (None, 4448)              0         \n",
      "_________________________________________________________________\n",
      "dense_1 (Dense)              (None, 32)                142368    \n",
      "_________________________________________________________________\n",
      "dropout_1 (Dropout)          (None, 32)                0         \n",
      "_________________________________________________________________\n",
      "dense_2 (Dense)              (None, 2)                 66        \n",
      "=================================================================\n",
      "Total params: 145,018\n",
      "Trainable params: 145,018\n",
      "Non-trainable params: 0\n",
      "_________________________________________________________________\n"
     ]
    }
   ],
   "source": [
    "model = Sequential()    # define the type of keras model\n",
    "\n",
    "# add the layers\n",
    "# conv1\n",
    "model.add(Conv2D(8, (1,64), activation='elu', input_shape=input_shape))\n",
    "# maxpool2\n",
    "model.add(MaxPool2D((1,8)))\n",
    "# conv2\n",
    "model.add(Conv2D(16, (1,16), activation='elu'))\n",
    "# maxpool2\n",
    "model.add(MaxPool2D((1,6)))\n",
    "# the input the fully connected layer must be 1-D vector\n",
    "model.add(Flatten())\n",
    "model.add(Dense(32, activation='elu'))\n",
    "#model.add(Dropout(0.5))\n",
    "dol = keras.layers.Dropout(0.5, noise_shape=None, seed=10)\n",
    "\n",
    "model.add(dol)\n",
    "# add the output layer with softmax actiavtion for classication\n",
    "model.add(Dense(num_classes, activation='softmax'))\n",
    "# print a summary\n",
    "model.summary()"
   ]
  },
  {
   "cell_type": "code",
   "execution_count": null,
   "metadata": {},
   "outputs": [],
   "source": []
  },
  {
   "cell_type": "code",
   "execution_count": 48,
   "metadata": {},
   "outputs": [],
   "source": [
    "del model\n"
   ]
  },
  {
   "cell_type": "code",
   "execution_count": 49,
   "metadata": {},
   "outputs": [
    {
     "name": "stdout",
     "output_type": "stream",
     "text": [
      "_________________________________________________________________\n",
      "Layer (type)                 Output Shape              Param #   \n",
      "=================================================================\n",
      "conv2d_9 (Conv2D)            (None, 16, 1, 13501)      1040      \n",
      "_________________________________________________________________\n",
      "max_pooling2d_9 (MaxPooling2 (None, 16, 1, 1687)       0         \n",
      "_________________________________________________________________\n",
      "conv2d_10 (Conv2D)           (None, 16, 1, 1672)       4112      \n",
      "_________________________________________________________________\n",
      "max_pooling2d_10 (MaxPooling (None, 16, 1, 278)        0         \n",
      "_________________________________________________________________\n",
      "flatten_5 (Flatten)          (None, 4448)              0         \n",
      "_________________________________________________________________\n",
      "dense_9 (Dense)              (None, 8)                 35592     \n",
      "_________________________________________________________________\n",
      "dropout_5 (Dropout)          (None, 8)                 0         \n",
      "_________________________________________________________________\n",
      "dense_10 (Dense)             (None, 2)                 18        \n",
      "=================================================================\n",
      "Total params: 40,762\n",
      "Trainable params: 40,762\n",
      "Non-trainable params: 0\n",
      "_________________________________________________________________\n"
     ]
    }
   ],
   "source": [
    "model = Sequential()    # define the type of keras model\n",
    "\n",
    "# add the layers\n",
    "# conv1\n",
    "model.add(Conv2D(16, (1,64), activation='elu', input_shape=input_shape))\n",
    "# maxpool2\n",
    "model.add(MaxPool2D((1,8)))\n",
    "\n",
    "\n",
    "model.add(Conv2D(16, (1,16), activation='elu'))\n",
    "# maxpool2\n",
    "model.add(MaxPool2D((1,6)))\n",
    "\n",
    "\n",
    "# the input the fully connected layer must be 1-D vector\n",
    "model.add(Flatten())\n",
    "model.add(Dense(8, activation='elu'))\n",
    "\n",
    "dol = keras.layers.Dropout(0.5, noise_shape=None, seed=10)\n",
    "\n",
    "model.add(dol)\n",
    "# add the output layer with softmax actiavtion for classication\n",
    "model.add(Dense(num_classes, activation='softmax'))\n",
    "# print a summary\n",
    "model.summary()"
   ]
  },
  {
   "cell_type": "code",
   "execution_count": 25,
   "metadata": {},
   "outputs": [],
   "source": [
    "# compile the model\n",
    "#adam = keras.optimizers.Adam(lr=0.01)\n",
    "model.compile(loss='categorical_crossentropy',\n",
    "              optimizer= Nadam(),\n",
    "              metrics=['accuracy'])"
   ]
  },
  {
   "cell_type": "code",
   "execution_count": 26,
   "metadata": {},
   "outputs": [],
   "source": [
    "# save the model each epoch if it is the best so far\n",
    "weight_file_name = '{0}/best_weights_at_SNR_%s.hdf5' %(int(SNR_set))\n",
    "modelCheck = ModelCheckpoint(weight_file_name.format(outdir), monitor='val_acc', verbose=0, \n",
    "                save_best_only=True,save_weights_only=True, mode='auto', period=0)"
   ]
  },
  {
   "cell_type": "code",
   "execution_count": 28,
   "metadata": {},
   "outputs": [
    {
     "name": "stdout",
     "output_type": "stream",
     "text": [
      "Train on 640 samples, validate on 160 samples\n",
      "Epoch 1/20\n"
     ]
    },
    {
     "ename": "UnknownError",
     "evalue": "Failed to get convolution algorithm. This is probably because cuDNN failed to initialize, so try looking to see if a warning log message was printed above.\n\t [[{{node conv2d_1/convolution}} = Conv2D[T=DT_FLOAT, _class=[\"loc:@training/Nadam/gradients/conv2d_1/convolution_grad/Conv2DBackpropFilter\"], data_format=\"NCHW\", dilations=[1, 1, 1, 1], padding=\"VALID\", strides=[1, 1, 1, 1], use_cudnn_on_gpu=true, _device=\"/job:localhost/replica:0/task:0/device:GPU:0\"](_arg_conv2d_1_input_0_0/_67, conv2d_1/kernel/read)]]\n\t [[{{node metrics/acc/Mean/_99}} = _Recv[client_terminated=false, recv_device=\"/job:localhost/replica:0/task:0/device:CPU:0\", send_device=\"/job:localhost/replica:0/task:0/device:GPU:0\", send_device_incarnation=1, tensor_name=\"edge_838_metrics/acc/Mean\", tensor_type=DT_FLOAT, _device=\"/job:localhost/replica:0/task:0/device:CPU:0\"]()]]",
     "output_type": "error",
     "traceback": [
      "\u001b[0;31m---------------------------------------------------------------------------\u001b[0m",
      "\u001b[0;31mUnknownError\u001b[0m                              Traceback (most recent call last)",
      "\u001b[0;32m<ipython-input-28-c1f3f6ce8ff0>\u001b[0m in \u001b[0;36m<module>\u001b[0;34m()\u001b[0m\n\u001b[1;32m      5\u001b[0m                     \u001b[0mvalidation_data\u001b[0m\u001b[0;34m=\u001b[0m\u001b[0;34m(\u001b[0m\u001b[0mval_sample\u001b[0m\u001b[0;34m,\u001b[0m \u001b[0mval_label\u001b[0m\u001b[0;34m)\u001b[0m\u001b[0;34m,\u001b[0m\u001b[0;34m\u001b[0m\u001b[0m\n\u001b[1;32m      6\u001b[0m                     \u001b[0mcallbacks\u001b[0m \u001b[0;34m=\u001b[0m \u001b[0;34m[\u001b[0m\u001b[0mmodelCheck\u001b[0m\u001b[0;34m]\u001b[0m\u001b[0;34m,\u001b[0m\u001b[0;34m\u001b[0m\u001b[0m\n\u001b[0;32m----> 7\u001b[0;31m                    shuffle = False)\n\u001b[0m",
      "\u001b[0;32m/usr/local/lib/python2.7/dist-packages/keras/engine/training.pyc\u001b[0m in \u001b[0;36mfit\u001b[0;34m(self, x, y, batch_size, epochs, verbose, callbacks, validation_split, validation_data, shuffle, class_weight, sample_weight, initial_epoch, steps_per_epoch, validation_steps, **kwargs)\u001b[0m\n\u001b[1;32m   1037\u001b[0m                                         \u001b[0minitial_epoch\u001b[0m\u001b[0;34m=\u001b[0m\u001b[0minitial_epoch\u001b[0m\u001b[0;34m,\u001b[0m\u001b[0;34m\u001b[0m\u001b[0m\n\u001b[1;32m   1038\u001b[0m                                         \u001b[0msteps_per_epoch\u001b[0m\u001b[0;34m=\u001b[0m\u001b[0msteps_per_epoch\u001b[0m\u001b[0;34m,\u001b[0m\u001b[0;34m\u001b[0m\u001b[0m\n\u001b[0;32m-> 1039\u001b[0;31m                                         validation_steps=validation_steps)\n\u001b[0m\u001b[1;32m   1040\u001b[0m \u001b[0;34m\u001b[0m\u001b[0m\n\u001b[1;32m   1041\u001b[0m     def evaluate(self, x=None, y=None,\n",
      "\u001b[0;32m/usr/local/lib/python2.7/dist-packages/keras/engine/training_arrays.pyc\u001b[0m in \u001b[0;36mfit_loop\u001b[0;34m(model, f, ins, out_labels, batch_size, epochs, verbose, callbacks, val_f, val_ins, shuffle, callback_metrics, initial_epoch, steps_per_epoch, validation_steps)\u001b[0m\n\u001b[1;32m    197\u001b[0m                     \u001b[0mins_batch\u001b[0m\u001b[0;34m[\u001b[0m\u001b[0mi\u001b[0m\u001b[0;34m]\u001b[0m \u001b[0;34m=\u001b[0m \u001b[0mins_batch\u001b[0m\u001b[0;34m[\u001b[0m\u001b[0mi\u001b[0m\u001b[0;34m]\u001b[0m\u001b[0;34m.\u001b[0m\u001b[0mtoarray\u001b[0m\u001b[0;34m(\u001b[0m\u001b[0;34m)\u001b[0m\u001b[0;34m\u001b[0m\u001b[0m\n\u001b[1;32m    198\u001b[0m \u001b[0;34m\u001b[0m\u001b[0m\n\u001b[0;32m--> 199\u001b[0;31m                 \u001b[0mouts\u001b[0m \u001b[0;34m=\u001b[0m \u001b[0mf\u001b[0m\u001b[0;34m(\u001b[0m\u001b[0mins_batch\u001b[0m\u001b[0;34m)\u001b[0m\u001b[0;34m\u001b[0m\u001b[0m\n\u001b[0m\u001b[1;32m    200\u001b[0m                 \u001b[0mouts\u001b[0m \u001b[0;34m=\u001b[0m \u001b[0mto_list\u001b[0m\u001b[0;34m(\u001b[0m\u001b[0mouts\u001b[0m\u001b[0;34m)\u001b[0m\u001b[0;34m\u001b[0m\u001b[0m\n\u001b[1;32m    201\u001b[0m                 \u001b[0;32mfor\u001b[0m \u001b[0ml\u001b[0m\u001b[0;34m,\u001b[0m \u001b[0mo\u001b[0m \u001b[0;32min\u001b[0m \u001b[0mzip\u001b[0m\u001b[0;34m(\u001b[0m\u001b[0mout_labels\u001b[0m\u001b[0;34m,\u001b[0m \u001b[0mouts\u001b[0m\u001b[0;34m)\u001b[0m\u001b[0;34m:\u001b[0m\u001b[0;34m\u001b[0m\u001b[0m\n",
      "\u001b[0;32m/usr/local/lib/python2.7/dist-packages/keras/backend/tensorflow_backend.pyc\u001b[0m in \u001b[0;36m__call__\u001b[0;34m(self, inputs)\u001b[0m\n\u001b[1;32m   2713\u001b[0m                 \u001b[0;32mreturn\u001b[0m \u001b[0mself\u001b[0m\u001b[0;34m.\u001b[0m\u001b[0m_legacy_call\u001b[0m\u001b[0;34m(\u001b[0m\u001b[0minputs\u001b[0m\u001b[0;34m)\u001b[0m\u001b[0;34m\u001b[0m\u001b[0m\n\u001b[1;32m   2714\u001b[0m \u001b[0;34m\u001b[0m\u001b[0m\n\u001b[0;32m-> 2715\u001b[0;31m             \u001b[0;32mreturn\u001b[0m \u001b[0mself\u001b[0m\u001b[0;34m.\u001b[0m\u001b[0m_call\u001b[0m\u001b[0;34m(\u001b[0m\u001b[0minputs\u001b[0m\u001b[0;34m)\u001b[0m\u001b[0;34m\u001b[0m\u001b[0m\n\u001b[0m\u001b[1;32m   2716\u001b[0m         \u001b[0;32melse\u001b[0m\u001b[0;34m:\u001b[0m\u001b[0;34m\u001b[0m\u001b[0m\n\u001b[1;32m   2717\u001b[0m             \u001b[0;32mif\u001b[0m \u001b[0mpy_any\u001b[0m\u001b[0;34m(\u001b[0m\u001b[0mis_tensor\u001b[0m\u001b[0;34m(\u001b[0m\u001b[0mx\u001b[0m\u001b[0;34m)\u001b[0m \u001b[0;32mfor\u001b[0m \u001b[0mx\u001b[0m \u001b[0;32min\u001b[0m \u001b[0minputs\u001b[0m\u001b[0;34m)\u001b[0m\u001b[0;34m:\u001b[0m\u001b[0;34m\u001b[0m\u001b[0m\n",
      "\u001b[0;32m/usr/local/lib/python2.7/dist-packages/keras/backend/tensorflow_backend.pyc\u001b[0m in \u001b[0;36m_call\u001b[0;34m(self, inputs)\u001b[0m\n\u001b[1;32m   2673\u001b[0m             \u001b[0mfetched\u001b[0m \u001b[0;34m=\u001b[0m \u001b[0mself\u001b[0m\u001b[0;34m.\u001b[0m\u001b[0m_callable_fn\u001b[0m\u001b[0;34m(\u001b[0m\u001b[0;34m*\u001b[0m\u001b[0marray_vals\u001b[0m\u001b[0;34m,\u001b[0m \u001b[0mrun_metadata\u001b[0m\u001b[0;34m=\u001b[0m\u001b[0mself\u001b[0m\u001b[0;34m.\u001b[0m\u001b[0mrun_metadata\u001b[0m\u001b[0;34m)\u001b[0m\u001b[0;34m\u001b[0m\u001b[0m\n\u001b[1;32m   2674\u001b[0m         \u001b[0;32melse\u001b[0m\u001b[0;34m:\u001b[0m\u001b[0;34m\u001b[0m\u001b[0m\n\u001b[0;32m-> 2675\u001b[0;31m             \u001b[0mfetched\u001b[0m \u001b[0;34m=\u001b[0m \u001b[0mself\u001b[0m\u001b[0;34m.\u001b[0m\u001b[0m_callable_fn\u001b[0m\u001b[0;34m(\u001b[0m\u001b[0;34m*\u001b[0m\u001b[0marray_vals\u001b[0m\u001b[0;34m)\u001b[0m\u001b[0;34m\u001b[0m\u001b[0m\n\u001b[0m\u001b[1;32m   2676\u001b[0m         \u001b[0;32mreturn\u001b[0m \u001b[0mfetched\u001b[0m\u001b[0;34m[\u001b[0m\u001b[0;34m:\u001b[0m\u001b[0mlen\u001b[0m\u001b[0;34m(\u001b[0m\u001b[0mself\u001b[0m\u001b[0;34m.\u001b[0m\u001b[0moutputs\u001b[0m\u001b[0;34m)\u001b[0m\u001b[0;34m]\u001b[0m\u001b[0;34m\u001b[0m\u001b[0m\n\u001b[1;32m   2677\u001b[0m \u001b[0;34m\u001b[0m\u001b[0m\n",
      "\u001b[0;32m/usr/local/lib/python2.7/dist-packages/tensorflow/python/client/session.pyc\u001b[0m in \u001b[0;36m__call__\u001b[0;34m(self, *args, **kwargs)\u001b[0m\n\u001b[1;32m   1437\u001b[0m           ret = tf_session.TF_SessionRunCallable(\n\u001b[1;32m   1438\u001b[0m               \u001b[0mself\u001b[0m\u001b[0;34m.\u001b[0m\u001b[0m_session\u001b[0m\u001b[0;34m.\u001b[0m\u001b[0m_session\u001b[0m\u001b[0;34m,\u001b[0m \u001b[0mself\u001b[0m\u001b[0;34m.\u001b[0m\u001b[0m_handle\u001b[0m\u001b[0;34m,\u001b[0m \u001b[0margs\u001b[0m\u001b[0;34m,\u001b[0m \u001b[0mstatus\u001b[0m\u001b[0;34m,\u001b[0m\u001b[0;34m\u001b[0m\u001b[0m\n\u001b[0;32m-> 1439\u001b[0;31m               run_metadata_ptr)\n\u001b[0m\u001b[1;32m   1440\u001b[0m         \u001b[0;32mif\u001b[0m \u001b[0mrun_metadata\u001b[0m\u001b[0;34m:\u001b[0m\u001b[0;34m\u001b[0m\u001b[0m\n\u001b[1;32m   1441\u001b[0m           \u001b[0mproto_data\u001b[0m \u001b[0;34m=\u001b[0m \u001b[0mtf_session\u001b[0m\u001b[0;34m.\u001b[0m\u001b[0mTF_GetBuffer\u001b[0m\u001b[0;34m(\u001b[0m\u001b[0mrun_metadata_ptr\u001b[0m\u001b[0;34m)\u001b[0m\u001b[0;34m\u001b[0m\u001b[0m\n",
      "\u001b[0;32m/usr/local/lib/python2.7/dist-packages/tensorflow/python/framework/errors_impl.pyc\u001b[0m in \u001b[0;36m__exit__\u001b[0;34m(self, type_arg, value_arg, traceback_arg)\u001b[0m\n\u001b[1;32m    526\u001b[0m             \u001b[0mNone\u001b[0m\u001b[0;34m,\u001b[0m \u001b[0mNone\u001b[0m\u001b[0;34m,\u001b[0m\u001b[0;34m\u001b[0m\u001b[0m\n\u001b[1;32m    527\u001b[0m             \u001b[0mcompat\u001b[0m\u001b[0;34m.\u001b[0m\u001b[0mas_text\u001b[0m\u001b[0;34m(\u001b[0m\u001b[0mc_api\u001b[0m\u001b[0;34m.\u001b[0m\u001b[0mTF_Message\u001b[0m\u001b[0;34m(\u001b[0m\u001b[0mself\u001b[0m\u001b[0;34m.\u001b[0m\u001b[0mstatus\u001b[0m\u001b[0;34m.\u001b[0m\u001b[0mstatus\u001b[0m\u001b[0;34m)\u001b[0m\u001b[0;34m)\u001b[0m\u001b[0;34m,\u001b[0m\u001b[0;34m\u001b[0m\u001b[0m\n\u001b[0;32m--> 528\u001b[0;31m             c_api.TF_GetCode(self.status.status))\n\u001b[0m\u001b[1;32m    529\u001b[0m     \u001b[0;31m# Delete the underlying status object from memory otherwise it stays alive\u001b[0m\u001b[0;34m\u001b[0m\u001b[0;34m\u001b[0m\u001b[0m\n\u001b[1;32m    530\u001b[0m     \u001b[0;31m# as there is a reference to status from this from the traceback due to\u001b[0m\u001b[0;34m\u001b[0m\u001b[0;34m\u001b[0m\u001b[0m\n",
      "\u001b[0;31mUnknownError\u001b[0m: Failed to get convolution algorithm. This is probably because cuDNN failed to initialize, so try looking to see if a warning log message was printed above.\n\t [[{{node conv2d_1/convolution}} = Conv2D[T=DT_FLOAT, _class=[\"loc:@training/Nadam/gradients/conv2d_1/convolution_grad/Conv2DBackpropFilter\"], data_format=\"NCHW\", dilations=[1, 1, 1, 1], padding=\"VALID\", strides=[1, 1, 1, 1], use_cudnn_on_gpu=true, _device=\"/job:localhost/replica:0/task:0/device:GPU:0\"](_arg_conv2d_1_input_0_0/_67, conv2d_1/kernel/read)]]\n\t [[{{node metrics/acc/Mean/_99}} = _Recv[client_terminated=false, recv_device=\"/job:localhost/replica:0/task:0/device:CPU:0\", send_device=\"/job:localhost/replica:0/task:0/device:GPU:0\", send_device_incarnation=1, tensor_name=\"edge_838_metrics/acc/Mean\", tensor_type=DT_FLOAT, _device=\"/job:localhost/replica:0/task:0/device:CPU:0\"]()]]"
     ]
    }
   ],
   "source": [
    "history = model.fit(train_sample, train_label,\n",
    "                    batch_size=batch_size,\n",
    "                    epochs=epochs,\n",
    "                    verbose=1,\n",
    "                    validation_data=(val_sample, val_label),\n",
    "                    callbacks = [modelCheck],\n",
    "                   shuffle = False)"
   ]
  },
  {
   "cell_type": "code",
   "execution_count": 62,
   "metadata": {},
   "outputs": [],
   "source": [
    "if \"history_saver\" in globals():\n",
    "    ##history_saver = []\n",
    "    history_saver.append(history)\n",
    "else:\n",
    "    with open(\"history_saver.pkl\") as f:\n",
    "        history_saver = pickle.load(f)\n",
    "        history_saver.append(history)\n",
    "\n",
    "#pathandname='showdata.pkl'\n",
    "#fp = open(pathandname,\"w\")\n",
    "#pickle.dump([ts, show_data], fp)\n",
    "#fp.close()"
   ]
  },
  {
   "cell_type": "code",
   "execution_count": 63,
   "metadata": {},
   "outputs": [],
   "source": [
    "history_file_name = 'results/history_at_SNR_%s.pkl' %(int(SNR_set))\n",
    "#pathandname = history_file_name\n",
    "fp = open(history_file_name,\"w\")\n",
    "pickle.dump([history_saver], fp)\n",
    "fp.close()"
   ]
  },
  {
   "cell_type": "code",
   "execution_count": 66,
   "metadata": {},
   "outputs": [
    {
     "data": {
      "text/plain": [
       "'./results/best_weights_at_SNR_8.hdf5'"
      ]
     },
     "execution_count": 66,
     "metadata": {},
     "output_type": "execute_result"
    }
   ],
   "source": [
    "weight_file_name.format(outdir)"
   ]
  },
  {
   "cell_type": "code",
   "execution_count": null,
   "metadata": {},
   "outputs": [],
   "source": [
    "# load the best model\n",
    "weight_file_name = '{0}/best_weights_at_SNR_%s.hdf5' %(int(8))\n",
    "\n",
    "model.load_weights(weight_file_name.format(outdir))\n",
    "# evaluate\n",
    "eval_results = model.evaluate(test_sample, test_label,\n",
    "                              sample_weight=None,\n",
    "                              batch_size=batch_size, verbose=1)\n",
    "print('Test loss:', eval_results[0])\n",
    "print('Test accuracy:', eval_results[1])\n",
    "signal_preds = model.predict(test_sample)\n"
   ]
  },
  {
   "cell_type": "code",
   "execution_count": null,
   "metadata": {},
   "outputs": [],
   "source": [
    "8 200/200 [==============================] - 0s 491us/step\n",
    "('Test loss:', 0.186470251949504)\n",
    "('Test accuracy:', 0.9599999845027923)\n",
    "\n",
    "9 200/200 [==============================] - 0s 375us/step\n",
    "('Test loss:', 0.08477069551008753)\n",
    "('Test accuracy:', 0.9849999874830246)\n",
    "\n",
    "10 200/200 [==============================] - 0s 327us/step\n",
    "('Test loss:', 0.045048040983525085)\n",
    "('Test accuracy:', 0.9949999958276748)"
   ]
  },
  {
   "cell_type": "code",
   "execution_count": 48,
   "metadata": {},
   "outputs": [],
   "source": [
    "fontsize = 20\n",
    "\n",
    "fig , axs = plt.subplots(2,1, sharex = True)\n",
    "axs = axs.ravel()\n",
    "# plot history\n",
    "axs[0].plot(history.history['loss'], label = 'Loss', linewidth = 2, color = 'b')\n",
    "axs[0].plot(history.history['val_loss'], label = 'Validation Loss', linewidth = 2, color = 'r')\n",
    "axs[1].plot(history.history['acc'], label = 'Accuracy', linewidth = 2, color = 'b')\n",
    "axs[1].plot(history.history['val_acc'], label = 'Validation Accurarcy', linewidth = 2, color = 'r')\n",
    "# set labels\n",
    "axs[0].set_ylabel('Loss', fontsize = fontsize)\n",
    "axs[1].set_xlabel('Epoch', fontsize = fontsize)\n",
    "axs[1].set_ylabel('Acc', fontsize = fontsize)\n",
    "# legends\n",
    "axs[0].legend(fontsize = fontsize)\n",
    "axs[1].legend(fontsize = fontsize)\n",
    "# grids\n",
    "axs[0].grid()\n",
    "axs[1].grid()\n",
    "axs[0].set_xlim([0, epochs])\n",
    "axs[0].set_ylim(bottom = 0)\n",
    "\n",
    "axs[1].set_xlim([0, epochs])\n",
    "axs[1].set_ylim(top = 1)\n",
    "\n",
    "plt.subplots_adjust(left = 0.1, bottom = 0.1, right = 0.90, top = 0.95)\n",
    "for ax in axs:\n",
    "    for tick in ax.xaxis.get_major_ticks():\n",
    "        tick.label1.set_fontsize(fontsize)\n",
    "        tick.label1.set_fontweight('normal')\n",
    "    for tick in ax.yaxis.get_major_ticks():\n",
    "        tick.label1.set_fontsize(fontsize)\n",
    "        tick.label1.set_fontweight('normal')\n",
    "plt.show()"
   ]
  },
  {
   "cell_type": "code",
   "execution_count": 43,
   "metadata": {},
   "outputs": [],
   "source": []
  },
  {
   "cell_type": "code",
   "execution_count": 49,
   "metadata": {},
   "outputs": [],
   "source": [
    "fa, ta, _ = metrics.roc_curve(test_label[:,1], signal_preds[:,1])\n",
    "fig = plt.figure()\n",
    "plt.plot(fa, ta, linewidth = 2, color = 'b')\n",
    "plt.xlabel('False alarm probability',fontsize = fontsize)\n",
    "plt.ylabel('True alarm probability',fontsize = fontsize)\n",
    "plt.title('ROC curve for SNR %s'%(SNR_set), fontsize = fontsize)\n",
    "plt.xlim([0, 1])\n",
    "plt.ylim([0, 1])\n",
    "plt.subplots_adjust(left = 0.1, bottom = 0.1, right = 0.90, top = 0.95)\n",
    "\n",
    "plt.grid()\n",
    "ax = plt.gca()\n",
    "for tick in ax.xaxis.get_major_ticks():\n",
    "    tick.label1.set_fontsize(fontsize)\n",
    "    tick.label1.set_fontweight('normal')\n",
    "for tick in ax.yaxis.get_major_ticks():\n",
    "    tick.label1.set_fontsize(fontsize)\n",
    "    tick.label1.set_fontweight('normal')\n",
    "plt.show()"
   ]
  },
  {
   "cell_type": "code",
   "execution_count": 64,
   "metadata": {},
   "outputs": [],
   "source": [
    "import matplotlib.pyplot as plt\n",
    "\n",
    "from mpl_toolkits.axes_grid1.inset_locator import zoomed_inset_axes\n",
    "from mpl_toolkits.axes_grid1.inset_locator import mark_inset\n",
    "\n",
    "import numpy as np\n",
    "\n",
    "def get_demo_image():\n",
    "    from matplotlib.cbook import get_sample_data\n",
    "    import numpy as np\n",
    "    f = get_sample_data(\"axes_grid/bivariate_normal.npy\", asfileobj=False)\n",
    "    z = np.load(f)\n",
    "    # z is a numpy array of 15x15\n",
    "    return z, (-3,4,-4,3)\n",
    "\n",
    "fig, ax = plt.subplots(figsize=[5,4])\n",
    "\n",
    "# prepare the demo image\n",
    "Z, extent = get_demo_image()\n",
    "Z2 = np.zeros([150, 150], dtype=\"d\")\n",
    "ny, nx = Z.shape\n",
    "Z2[30:30+ny, 30:30+nx] = Z\n",
    "\n",
    "# extent = [-3, 4, -4, 3]\n",
    "ax.imshow(Z2, extent=extent, interpolation=\"nearest\",\n",
    "          origin=\"lower\")\n",
    "\n",
    "axins = zoomed_inset_axes(ax, 6, loc=1) # zoom = 6\n",
    "#axins.imshow(Z2, extent=extent, interpolation=\"nearest\",\n",
    "#             origin=\"lower\")\n",
    "\n",
    "# sub region of the original image\n",
    "x1, x2, y1, y2 = -1.5, -0.9, -2.5, -1.9\n",
    "axins.set_xlim(x1, x2)\n",
    "axins.set_ylim(y1, y2)\n",
    "\n",
    "plt.xticks(visible=False)\n",
    "plt.yticks(visible=False)\n",
    "\n",
    "# draw a bbox of the region of the inset axes in the parent axes and\n",
    "# connecting lines between the bbox and the inset axes area\n",
    "#mark_inset(ax, axins, loc1=2, loc2=4, fc=\"none\", ec=\"0.5\")\n",
    "\n",
    "plt.draw()\n",
    "plt.show()"
   ]
  },
  {
   "cell_type": "code",
   "execution_count": null,
   "metadata": {},
   "outputs": [],
   "source": []
  },
  {
   "cell_type": "code",
   "execution_count": 118,
   "metadata": {},
   "outputs": [],
   "source": [
    "## plotting SNR\n",
    "fontsize = 26\n",
    "plt.scatter(np.arange(1824)+1, originalSNR, color='b', label = 'Waveform SNR from waveform file')\n",
    "plt.scatter(np.arange(1824)+1, SNR, color = 'r', label='SNR as computed using the optimal SNR formula')\n",
    "plt.xlabel('Index of waveform samples', fontsize=fontsize)\n",
    "plt.ylabel('SNR for signal from 100Hz to 500hz', fontsize =fontsize)\n",
    "plt.grid()\n",
    "plt.legend(fontsize=fontsize)\n",
    "ax = plt.gca()\n",
    "for tick in ax.xaxis.get_major_ticks():\n",
    "    tick.label1.set_fontsize(fontsize)\n",
    "    tick.label1.set_fontweight('normal')\n",
    "for tick in ax.yaxis.get_major_ticks():\n",
    "    tick.label1.set_fontsize(fontsize)\n",
    "    tick.label1.set_fontweight('normal')\n",
    "plt.show()\n",
    "    "
   ]
  },
  {
   "cell_type": "code",
   "execution_count": null,
   "metadata": {},
   "outputs": [],
   "source": [
    "# plotting waveforms between original and downsampled\n",
    "from mpl_toolkits.axes_grid.inset_locator import inset_axes\n",
    "\n",
    "plt.plot(np.arange(len(original[0])) * original_dt, original[0], linewidth = 2, color = 'b', label = 'Original')\n",
    "\n",
    "plt.plot(np.arange(len(SNewaves[0])) * New_dt, SNewaves[0], linewidth = 2, color = 'r', label = 'Downsampled by a factor of 8')\n",
    "plt.legend()\n",
    "fontsize =26\n",
    "plt.xlabel('Time (s)', fontsize = fontsize)\n",
    "plt.ylabel('Strain', fontsize =fontsize)\n",
    "plt.legend(fontsize = fontsize, loc = 'lower right')\n",
    "plt.xlim([0.16, 0.3])\n",
    "\n",
    "plt.grid()\n",
    "\n",
    "plt.show()\n",
    "\n",
    "ax = plt.gca()\n",
    "\n",
    "for tick in ax.xaxis.get_major_ticks():\n",
    "    tick.label1.set_fontsize(fontsize)\n",
    "    tick.label1.set_fontweight('normal')\n",
    "for tick in ax.yaxis.get_major_ticks():\n",
    "    tick.label1.set_fontsize(fontsize)\n",
    "    tick.label1.set_fontweight('normal')\n",
    "text = ax.yaxis.get_offset_text()\n",
    "text.set_size(fontsize)\n",
    "\n",
    "\n",
    "ax = plt.gca()\n",
    "inset_axes = inset_axes(ax, width=\"40%\", # width = 30% of parent_bbox\n",
    "                    height=2.0, # height : 1 inch\n",
    "                    loc=1)\n",
    "plt.grid()\n",
    "plt.plot(np.arange(len(original[0])) * original_dt, original[0], linewidth = 2, color = 'b', label = 'Original')\n",
    "\n",
    "plt.plot(np.arange(len(SNewaves[0])) * New_dt, SNewaves[0], linewidth = 2, color = 'r', label = 'Downsampled by a factor of 8')\n",
    "plt.xlim([0.165, 0.195])\n",
    "plt.ylim([-4e-22, 3e-22])\n",
    "\n",
    "x = [0.165, 0.180, 0.195]\n",
    "y = [-1.75e-22, -1.5e-22, -1.25e-22, -1.0e-22]\n",
    "\n",
    "plt.xticks(x)\n",
    "\n",
    "\n",
    "for tick in ax.xaxis.get_major_ticks():\n",
    "    tick.label1.set_fontsize(fontsize)\n",
    "    tick.label1.set_fontweight('normal')\n",
    "for tick in ax.yaxis.get_major_ticks():\n",
    "    tick.label1.set_fontsize(fontsize)\n",
    "    tick.label1.set_fontweight('normal')\n",
    "text = ax.yaxis.get_offset_text()\n",
    "text.set_size(fontsize)"
   ]
  },
  {
   "cell_type": "code",
   "execution_count": 121,
   "metadata": {},
   "outputs": [],
   "source": [
    "plt.plot(np.arange(len(data[12])) * New_dt, data[12], linewidth = 2, color = 'b', label = 'Whitened signal example')\n",
    "plt.legend()\n",
    "fontsize =26\n",
    "plt.xlabel('Time (s)', fontsize = fontsize)\n",
    "plt.ylabel('Strain', fontsize =fontsize)\n",
    "plt.legend(fontsize = fontsize, loc = 'upper right')\n",
    "#plt.xlim([0.16, 0.3])\n",
    "\n",
    "plt.grid()\n",
    "\n",
    "plt.show()\n",
    "\n",
    "ax = plt.gca()\n",
    "\n",
    "for tick in ax.xaxis.get_major_ticks():\n",
    "    tick.label1.set_fontsize(fontsize)\n",
    "    tick.label1.set_fontweight('normal')\n",
    "for tick in ax.yaxis.get_major_ticks():\n",
    "    tick.label1.set_fontsize(fontsize)\n",
    "    tick.label1.set_fontweight('normal')\n",
    "text = ax.yaxis.get_offset_text()\n",
    "text.set_size(fontsize)\n",
    "plt.show()\n",
    "\n",
    "\n"
   ]
  },
  {
   "cell_type": "code",
   "execution_count": 26,
   "metadata": {},
   "outputs": [],
   "source": [
    "\n",
    "fontsize =22\n",
    "fig , axs = plt.subplots(2,1, sharex = True)\n",
    "axs = axs.ravel()\n",
    "# plot history\n",
    "axs[0].plot(history.history['loss'], linewidth =2, color ='r', label = 'loss')\n",
    "axs[0].plot(history.history['val_loss'], linewidth =2, color ='b',label = 'val loss')\n",
    "axs[1].plot(history.history['acc'], linewidth =2, color ='r',label = 'acc')\n",
    "axs[1].plot(history.history['val_acc'], linewidth =2, color ='b',label = 'val_acc')\n",
    "# set labels\n",
    "axs[0].set_ylabel('Loss', fontsize = fontsize)\n",
    "axs[1].set_xlabel('Epoch', fontsize = fontsize)\n",
    "axs[1].set_ylabel('Acc', fontsize = fontsize)\n",
    "# legends\n",
    "axs[0].legend()\n",
    "axs[1].legend()\n",
    "# grids\n",
    "axs[0].grid()\n",
    "axs[1].grid()\n",
    "\n",
    "\n",
    "ax = axs[0]\n",
    "\n",
    "for tick in ax.xaxis.get_major_ticks():\n",
    "    tick.label1.set_fontsize(fontsize)\n",
    "    tick.label1.set_fontweight('normal')\n",
    "for tick in ax.yaxis.get_major_ticks():\n",
    "    tick.label1.set_fontsize(fontsize)\n",
    "    tick.label1.set_fontweight('normal')\n",
    "text = ax.yaxis.get_offset_text()\n",
    "text.set_size(fontsize)\n",
    "\n",
    "\n",
    "ax = axs[1]\n",
    "\n",
    "for tick in ax.xaxis.get_major_ticks():\n",
    "    tick.label1.set_fontsize(fontsize)\n",
    "    tick.label1.set_fontweight('normal')\n",
    "for tick in ax.yaxis.get_major_ticks():\n",
    "    tick.label1.set_fontsize(fontsize)\n",
    "    tick.label1.set_fontweight('normal')\n",
    "text = ax.yaxis.get_offset_text()\n",
    "text.set_size(fontsize)\n",
    "\n",
    "\n",
    "\n",
    "\n",
    "\n",
    "plt.show()"
   ]
  },
  {
   "cell_type": "code",
   "execution_count": null,
   "metadata": {},
   "outputs": [],
   "source": [
    "\n",
    "toolbar_width = 10000/100\n",
    "\n",
    "# setup toolbar\n",
    "bar = progressbar.ProgressBar(max_value=10000)\n",
    "\n",
    "# Generate noise\n",
    "for i in range(10000):\n",
    "    #if (i+1) % 1000 == 0 & i != N_rz - 1:\n",
    "    #    msg = 'The %s th to %s th noise realizations are now being generated.' %(i+1, i+1000)\n",
    "    #    print(msg)\n",
    "    #data[i], _ = noisegenerator(Tobs, Det, Sr, df, dt)\n",
    "    #print((i+1)%100)\n",
    "    if (i+1) % 100 == 0:\n",
    "    # update the bar\n",
    "        print(( float(i+1) / N_rz))\n",
    "        bar.update( int(float(i+1)))\n"
   ]
  },
  {
   "cell_type": "code",
   "execution_count": 223,
   "metadata": {},
   "outputs": [],
   "source": [
    "import pycbc.noise\n",
    "import pycbc.psd\n",
    "import pylab\n",
    "\n",
    "# The color of the noise matches a PSD which you provide\n",
    "flow = 30.0\n",
    "delta_f = 1.0 / 32\n",
    "flen = int(2048 / delta_f) + 1\n",
    "psd = pycbc.psd.aLIGOZeroDetHighPower(flen, delta_f, flow)\n",
    "\n",
    "# Generate 32 seconds of noise at 4096 Hz\n",
    "delta_t = 1.0 / 4096\n",
    "tsamples = int(32 / delta_t)\n",
    "ts = pycbc.noise.noise_from_psd(tsamples, delta_t, psd, seed=127)\n",
    "\n",
    "pylab.plot(ts.sample_times, ts)\n",
    "pylab.ylabel('Strain')\n",
    "pylab.xlabel('Time (s)')\n",
    "pylab.show()"
   ]
  },
  {
   "cell_type": "code",
   "execution_count": 241,
   "metadata": {},
   "outputs": [],
   "source": [
    "plt.plot(np.fft.irfft(np.fft.rfft(np.array(ts))[960:65535]*delta_t/np.sqrt(np.array(psd)[960:65535])) /delta_t)\n",
    "plt.show()"
   ]
  },
  {
   "cell_type": "code",
   "execution_count": null,
   "metadata": {},
   "outputs": [],
   "source": []
  },
  {
   "cell_type": "code",
   "execution_count": 233,
   "metadata": {},
   "outputs": [
    {
     "data": {
      "text/plain": [
       "array([65535])"
      ]
     },
     "execution_count": 233,
     "metadata": {},
     "output_type": "execute_result"
    }
   ],
   "source": [
    "save_for_test = 100\n",
    "nos_portion = (len(data) - multiplication * len(SNewaves) - save_for_test)/2\n",
    "\n",
    "\n",
    "nos_start = multiplication * len(SNewaves)\n",
    "\n",
    "train_start_index_signal = 0\n",
    "train_end_index_signal = (multiplication * len(SNewaves) - save_for_test) / 2\n",
    "\n",
    "train_start_index_noise = nos_start\n",
    "train_end_index_noise = nos_start + nos_portion\n",
    "\n",
    "\n",
    "val_start_index_signal = train_end_index_signal\n",
    "val_end_index_signal = multiplication * len(SNewaves) - save_for_test\n",
    "\n",
    "val_start_index_noise = train_end_index_noise\n",
    "val_end_index_noise = train_end_index_noise + nos_portion\n",
    "\n",
    "\n",
    "test_start_index_signal = val_end_index_signal\n",
    "test_end_index_signal =  val_end_index_signal + save_for_test\n",
    "\n",
    "test_start_index_noise = val_end_index_noise\n",
    "test_end_index_noise =  val_end_index_noise + save_for_test\n",
    "\n",
    "\n",
    "train_sample = np.concatenate((data[train_start_index_signal:train_end_index_signal], \n",
    "                               data[train_start_index_noise:train_end_index_noise]))\n",
    "\n",
    "train_label = np.concatenate((np.ones(train_end_index_signal - train_start_index_signal), \n",
    "                              np.zeros(train_end_index_noise - train_start_index_noise)))\n",
    "\n",
    "val_sample = np.concatenate((data[val_start_index_signal:val_end_index_signal], \n",
    "                            data[val_start_index_noise:val_end_index_noise]))\n",
    "\n",
    "val_label = np.concatenate((np.ones(val_end_index_signal - val_start_index_signal), \n",
    "                            np.zeros(val_end_index_noise - val_start_index_noise)))\n",
    "\n",
    "\n",
    "test_sample = np.concatenate((data[test_start_index_signal : test_end_index_signal], \n",
    "                             data[test_start_index_noise : test_end_index_noise]))\n",
    "\n",
    "test_label = np.concatenate((np.ones(test_end_index_signal - test_start_index_signal), \n",
    "                            np.zeros(test_end_index_noise - test_start_index_noise)))\n"
   ]
  },
  {
   "cell_type": "code",
   "execution_count": null,
   "metadata": {},
   "outputs": [],
   "source": [
    "def shuffle_data(train_sample, train_label, val_sample, val_label, test_sample, test_label,  shuffle_times):\n",
    "    \n",
    "    for i in range(shuffle_times):\n",
    "        state = np.random.randint(0,100)\n",
    "        train_sample, train_label = shuffle(train_sample, train_label, random_state=state)\n",
    "\n",
    "        state = np.random.randint(0,100)\n",
    "        test_sample, test_label = shuffle(test_sample, test_label, random_state=state)\n",
    "\n",
    "        state = np.random.randint(0,100)\n",
    "        val_sample, val_label = shuffle(val_sample, val_label, random_state=state)\n",
    "\n",
    "    return train_sample, train_label, val_sample, val_label, test_sample, test_label\n",
    "train_sample, train_label, val_sample, val_label, test_sample, test_label = shuffle_data(train_sample, train_label, val_sample, val_label, test_sample, test_label,  5)"
   ]
  }
 ],
 "metadata": {
  "kernelspec": {
   "display_name": "Python 2",
   "language": "python",
   "name": "python2"
  },
  "language_info": {
   "codemirror_mode": {
    "name": "ipython",
    "version": 2
   },
   "file_extension": ".py",
   "mimetype": "text/x-python",
   "name": "python",
   "nbconvert_exporter": "python",
   "pygments_lexer": "ipython2",
   "version": "2.7.12"
  }
 },
 "nbformat": 4,
 "nbformat_minor": 2
}
